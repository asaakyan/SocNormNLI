{
 "cells": [
  {
   "cell_type": "code",
   "execution_count": 9,
   "metadata": {},
   "outputs": [],
   "source": [
    "import json\n",
    "from copy import deepcopy\n"
   ]
  },
  {
   "cell_type": "code",
   "execution_count": null,
   "metadata": {},
   "outputs": [],
   "source": [
    "with open(\"./data/socnli_t5/socNLI_train.json\", \"r\") as f:\n",
    "    train = json.load(f)\n",
    "\n",
    "with open(\"./data/socnli_t5_IO/train.json\", \"w\") as file_i_o:\n",
    "    with open(\"./data/socnli_t5_IR_O/train.json\", \"w\") as file_ir_o:\n",
    "\n",
    "        for t in train:\n",
    "            tr = t['translation']\n",
    "            I, O, R = tr['en1'], tr['en2'].split('.')[0].strip(), tr['en2'].split('.')[1].strip() \n",
    "            ir_o, i_o = deepcopy(t), deepcopy(t)\n",
    "            ir_o['translation']['en1'] = ir_o['translation']['en1'] + \" \" + R\n",
    "            ir_o['translation']['en2'] = O\n",
    "            i_o['translation']['en2'] = O\n",
    "            json.dump(i_o, file_i_o)\n",
    "            file_i_o.write('\\n')\n",
    "            json.dump(ir_o, file_ir_o)\n",
    "            file_ir_o.write('\\n')"
   ]
  },
  {
   "cell_type": "code",
   "execution_count": 17,
   "metadata": {},
   "outputs": [],
   "source": [
    "split = \"val\"\n",
    "with open(f\"./data/socnli_t5/socNLI_{split}.json\", \"r\") as f:\n",
    "    train = json.load(f)\n",
    "\n",
    "with open(f\"./data/socnli_t5_IO/{split}.json\", \"w\") as file_i_o:\n",
    "    with open(f\"./data/socnli_t5_IR_O/{split}.json\", \"w\") as file_ir_o:\n",
    "\n",
    "        for t in train:\n",
    "            tr = t['translation']\n",
    "            I, O, R = tr['en1'], tr['en2'].split('.')[0].strip(), tr['en2'].split('.')[1].strip() \n",
    "            ir_o, i_o = deepcopy(t), deepcopy(t)\n",
    "            ir_o['translation']['en1'] = ir_o['translation']['en1'] + \" \" + R\n",
    "            ir_o['translation']['en2'] = O\n",
    "            i_o['translation']['en2'] = O\n",
    "            json.dump(i_o, file_i_o)\n",
    "            file_i_o.write('\\n')\n",
    "            json.dump(ir_o, file_ir_o)\n",
    "            file_ir_o.write('\\n')"
   ]
  },
  {
   "cell_type": "code",
   "execution_count": 18,
   "metadata": {},
   "outputs": [],
   "source": [
    "split = \"test\"\n",
    "with open(f\"./data/socnli_t5/socNLI_{split}.json\", \"r\") as f:\n",
    "    train = json.load(f)\n",
    "\n",
    "with open(f\"./data/socnli_t5_IO/{split}.json\", \"w\") as file_i_o:\n",
    "    with open(f\"./data/socnli_t5_IR_O/{split}.json\", \"w\") as file_ir_o:\n",
    "\n",
    "        for t in train:\n",
    "            tr = t['translation']\n",
    "            I, O, R = tr['en1'], tr['en2'].split('.')[0].strip(), tr['en2'].split('.')[1].strip() \n",
    "            ir_o, i_o = deepcopy(t), deepcopy(t)\n",
    "            ir_o['translation']['en1'] = ir_o['translation']['en1'] + \" \" + R\n",
    "            ir_o['translation']['en2'] = O\n",
    "            i_o['translation']['en2'] = O\n",
    "            json.dump(i_o, file_i_o)\n",
    "            file_i_o.write('\\n')\n",
    "            json.dump(ir_o, file_ir_o)\n",
    "            file_ir_o.write('\\n')"
   ]
  },
  {
   "cell_type": "code",
   "execution_count": null,
   "metadata": {},
   "outputs": [],
   "source": []
  }
 ],
 "metadata": {
  "kernelspec": {
   "display_name": "base",
   "language": "python",
   "name": "python3"
  },
  "language_info": {
   "codemirror_mode": {
    "name": "ipython",
    "version": 3
   },
   "file_extension": ".py",
   "mimetype": "text/x-python",
   "name": "python",
   "nbconvert_exporter": "python",
   "pygments_lexer": "ipython3",
   "version": "3.9.12"
  },
  "orig_nbformat": 4,
  "vscode": {
   "interpreter": {
    "hash": "364d9abb7aff696efb13be5ca97d520191fd5077dc6f659faeff954c3f4fe3ab"
   }
  }
 },
 "nbformat": 4,
 "nbformat_minor": 2
}
