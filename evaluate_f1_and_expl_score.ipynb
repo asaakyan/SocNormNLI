{
  "cells": [
    {
      "cell_type": "code",
      "execution_count": 1,
      "metadata": {},
      "outputs": [],
      "source": [
        "import os\n",
        "import pandas as pd"
      ]
    },
    {
      "attachments": {},
      "cell_type": "markdown",
      "metadata": {},
      "source": [
        "# Compute bleurt and bertscore"
      ]
    },
    {
      "cell_type": "code",
      "execution_count": 4,
      "metadata": {},
      "outputs": [
        {
          "name": "stderr",
          "output_type": "stream",
          "text": [
            "2023-01-20 18:19:51.571350: I tensorflow/core/platform/cpu_feature_guard.cc:193] This TensorFlow binary is optimized with oneAPI Deep Neural Network Library (oneDNN) to use the following CPU instructions in performance-critical operations:  AVX2 FMA\n",
            "To enable them in other operations, rebuild TensorFlow with the appropriate compiler flags.\n",
            "2023-01-20 18:19:53.534291: W tensorflow/compiler/xla/stream_executor/platform/default/dso_loader.cc:64] Could not load dynamic library 'libnvinfer.so.7'; dlerror: libnvinfer.so.7: cannot open shared object file: No such file or directory; LD_LIBRARY_PATH: /usr/local/cuda/lib64\n",
            "2023-01-20 18:19:53.534382: W tensorflow/compiler/xla/stream_executor/platform/default/dso_loader.cc:64] Could not load dynamic library 'libnvinfer_plugin.so.7'; dlerror: libnvinfer_plugin.so.7: cannot open shared object file: No such file or directory; LD_LIBRARY_PATH: /usr/local/cuda/lib64\n",
            "2023-01-20 18:19:53.534389: W tensorflow/compiler/tf2tensorrt/utils/py_utils.cc:38] TF-TRT Warning: Cannot dlopen some TensorRT libraries. If you would like to use Nvidia GPU with TensorRT, please make sure the missing libraries mentioned above are installed properly.\n"
          ]
        },
        {
          "name": "stdout",
          "output_type": "stream",
          "text": [
            "INFO:tensorflow:Reading checkpoint ./huggingface_models/bleurt/BLEURT-20/downloads/extracted/0054102ef99aef1b241ed1374740a33a4c8af64cac1c8abc72fa330394a441a2/BLEURT-20.\n",
            "INFO:tensorflow:Config file found, reading.\n",
            "INFO:tensorflow:Will load checkpoint BLEURT-20\n",
            "INFO:tensorflow:Loads full paths and checks that files exists.\n",
            "INFO:tensorflow:... name:BLEURT-20\n",
            "INFO:tensorflow:... bert_config_file:bert_config.json\n",
            "INFO:tensorflow:... max_seq_length:512\n",
            "INFO:tensorflow:... vocab_file:None\n",
            "INFO:tensorflow:... do_lower_case:None\n",
            "INFO:tensorflow:... sp_model:sent_piece\n",
            "INFO:tensorflow:... dynamic_seq_length:True\n",
            "INFO:tensorflow:Creating BLEURT scorer.\n",
            "INFO:tensorflow:Creating SentencePiece tokenizer.\n",
            "INFO:tensorflow:Creating SentencePiece tokenizer.\n",
            "INFO:tensorflow:Will load model: ./huggingface_models/bleurt/BLEURT-20/downloads/extracted/0054102ef99aef1b241ed1374740a33a4c8af64cac1c8abc72fa330394a441a2/BLEURT-20/sent_piece.model.\n",
            "INFO:tensorflow:SentencePiece tokenizer created.\n",
            "INFO:tensorflow:Creating Eager Mode predictor.\n",
            "INFO:tensorflow:Loading model.\n"
          ]
        },
        {
          "name": "stderr",
          "output_type": "stream",
          "text": [
            "2023-01-20 18:20:03.335624: I tensorflow/core/platform/cpu_feature_guard.cc:193] This TensorFlow binary is optimized with oneAPI Deep Neural Network Library (oneDNN) to use the following CPU instructions in performance-critical operations:  AVX2 FMA\n",
            "To enable them in other operations, rebuild TensorFlow with the appropriate compiler flags.\n",
            "2023-01-20 18:20:10.374490: I tensorflow/core/common_runtime/gpu/gpu_device.cc:1613] Created device /job:localhost/replica:0/task:0/device:GPU:0 with 25029 MB memory:  -> device: 0, name: NVIDIA A100-SXM4-40GB, pci bus id: 0000:01:00.0, compute capability: 8.0\n",
            "2023-01-20 18:20:10.377723: I tensorflow/core/common_runtime/gpu/gpu_device.cc:1613] Created device /job:localhost/replica:0/task:0/device:GPU:1 with 26037 MB memory:  -> device: 1, name: NVIDIA A100-SXM4-40GB, pci bus id: 0000:41:00.0, compute capability: 8.0\n",
            "2023-01-20 18:20:10.380717: I tensorflow/core/common_runtime/gpu/gpu_device.cc:1613] Created device /job:localhost/replica:0/task:0/device:GPU:2 with 22594 MB memory:  -> device: 2, name: NVIDIA A100-SXM4-40GB, pci bus id: 0000:81:00.0, compute capability: 8.0\n",
            "2023-01-20 18:20:10.383734: I tensorflow/core/common_runtime/gpu/gpu_device.cc:1613] Created device /job:localhost/replica:0/task:0/device:GPU:3 with 22410 MB memory:  -> device: 3, name: NVIDIA A100-SXM4-40GB, pci bus id: 0000:c1:00.0, compute capability: 8.0\n"
          ]
        },
        {
          "name": "stdout",
          "output_type": "stream",
          "text": [
            "INFO:tensorflow:BLEURT initialized.\n"
          ]
        },
        {
          "name": "stderr",
          "output_type": "stream",
          "text": [
            "2023-01-20 18:20:18.377846: I tensorflow/compiler/xla/stream_executor/cuda/cuda_blas.cc:630] TensorFloat-32 will be used for the matrix multiplication. This will only be logged once.\n"
          ]
        },
        {
          "data": {
            "text/plain": [
              "{'scores': [0.6033896207809448]}"
            ]
          },
          "execution_count": 4,
          "metadata": {},
          "output_type": "execute_result"
        }
      ],
      "source": [
        "from evaluate import load\n",
        "\n",
        "bleurt = load('bleurt', \"BLEURT-20\", module_type=\"metric\",\n",
        "cache_dir='./huggingface_models')\n",
        "cands = ['hello world']\n",
        "refs = ['goodbye world']\n",
        "bleurt.compute(predictions=cands, references=refs)"
      ]
    },
    {
      "cell_type": "code",
      "execution_count": 5,
      "metadata": {},
      "outputs": [
        {
          "data": {
            "application/vnd.jupyter.widget-view+json": {
              "model_id": "9edb805dcdbf469b9ed03ea7aa15dc2e",
              "version_major": 2,
              "version_minor": 0
            },
            "text/plain": [
              "Downloading:   0%|          | 0.00/52.0 [00:00<?, ?B/s]"
            ]
          },
          "metadata": {},
          "output_type": "display_data"
        },
        {
          "data": {
            "application/vnd.jupyter.widget-view+json": {
              "model_id": "6b52c9e19911473496ab59969c538b87",
              "version_major": 2,
              "version_minor": 0
            },
            "text/plain": [
              "Downloading:   0%|          | 0.00/729 [00:00<?, ?B/s]"
            ]
          },
          "metadata": {},
          "output_type": "display_data"
        },
        {
          "data": {
            "application/vnd.jupyter.widget-view+json": {
              "model_id": "423381a0def44359aeed164856fb25cc",
              "version_major": 2,
              "version_minor": 0
            },
            "text/plain": [
              "Downloading:   0%|          | 0.00/899k [00:00<?, ?B/s]"
            ]
          },
          "metadata": {},
          "output_type": "display_data"
        },
        {
          "data": {
            "application/vnd.jupyter.widget-view+json": {
              "model_id": "e5f1fd131b9942f0b62f690742912957",
              "version_major": 2,
              "version_minor": 0
            },
            "text/plain": [
              "Downloading:   0%|          | 0.00/456k [00:00<?, ?B/s]"
            ]
          },
          "metadata": {},
          "output_type": "display_data"
        },
        {
          "data": {
            "application/vnd.jupyter.widget-view+json": {
              "model_id": "47203499819446469bed4b32b19e42d9",
              "version_major": 2,
              "version_minor": 0
            },
            "text/plain": [
              "Downloading:   0%|          | 0.00/1.62G [00:00<?, ?B/s]"
            ]
          },
          "metadata": {},
          "output_type": "display_data"
        },
        {
          "name": "stderr",
          "output_type": "stream",
          "text": [
            "Some weights of the model checkpoint at microsoft/deberta-large-mnli were not used when initializing DebertaModel: ['config', 'classifier.bias', 'classifier.weight', 'pooler.dense.weight', 'pooler.dense.bias']\n",
            "- This IS expected if you are initializing DebertaModel from the checkpoint of a model trained on another task or with another architecture (e.g. initializing a BertForSequenceClassification model from a BertForPreTraining model).\n",
            "- This IS NOT expected if you are initializing DebertaModel from the checkpoint of a model that you expect to be exactly identical (initializing a BertForSequenceClassification model from a BertForSequenceClassification model).\n"
          ]
        }
      ],
      "source": [
        "from bert_score import score as score_bert\n",
        "cands = ['hello world']\n",
        "refs = ['goodbye world']\n",
        "def get_bertscore(cands, refs):\n",
        "    P1, R1, F1 = score_bert(cands, refs, lang=\"en\", \n",
        "    model_type='microsoft/deberta-large-mnli',\n",
        "    batch_size=1, device=\"cuda:1\")\n",
        "    F1 = F1.cpu().detach().numpy().tolist()\n",
        "    return F1\n",
        "F1 = get_bertscore(cands, refs)"
      ]
    },
    {
      "cell_type": "code",
      "execution_count": null,
      "metadata": {},
      "outputs": [],
      "source": [
        "# uncomment to save\n",
        "# for model in ['t5-socnorm',  'dream', 't5-flan', 't5-esnli']:\n",
        "#     print(model)\n",
        "#     res = pd.read_csv(f'./data/model_outputs_test_set/{model}.csv')\n",
        "#     res['bleurt'] = bleurt.compute(predictions=res['expl_pred'], references=res['expl_true'])['scores']\n",
        "#     res['bertscore'] = get_bertscore(res['expl_pred'].fillna('None').tolist(), \n",
        "#                                     res['expl_true'].fillna('None').tolist())\n",
        "#     res['expl_score'] = (res['bleurt'] + res['bertscore'])/2\n",
        "#     res.to_csv(f\"./data/bert_bleurt_scores/{model}_scored.csv\",index=False)"
      ]
    },
    {
      "attachments": {},
      "cell_type": "markdown",
      "metadata": {},
      "source": [
        "# Compute F1 and explanation score"
      ]
    },
    {
      "cell_type": "code",
      "execution_count": 2,
      "metadata": {},
      "outputs": [
        {
          "data": {
            "text/html": [
              "<div>\n",
              "<style scoped>\n",
              "    .dataframe tbody tr th:only-of-type {\n",
              "        vertical-align: middle;\n",
              "    }\n",
              "\n",
              "    .dataframe tbody tr th {\n",
              "        vertical-align: top;\n",
              "    }\n",
              "\n",
              "    .dataframe thead th {\n",
              "        text-align: right;\n",
              "    }\n",
              "</style>\n",
              "<table border=\"1\" class=\"dataframe\">\n",
              "  <thead>\n",
              "    <tr style=\"text-align: right;\">\n",
              "      <th></th>\n",
              "      <th>model</th>\n",
              "      <th>F1@0</th>\n",
              "      <th>F1@50</th>\n",
              "      <th>F1@60</th>\n",
              "      <th>F1@70</th>\n",
              "    </tr>\n",
              "  </thead>\n",
              "  <tbody>\n",
              "    <tr>\n",
              "      <th>0</th>\n",
              "      <td>t5-flan</td>\n",
              "      <td>25.85</td>\n",
              "      <td>8.92</td>\n",
              "      <td>7.11</td>\n",
              "      <td>0.76</td>\n",
              "    </tr>\n",
              "    <tr>\n",
              "      <th>1</th>\n",
              "      <td>dream</td>\n",
              "      <td>17.68</td>\n",
              "      <td>4.31</td>\n",
              "      <td>0.00</td>\n",
              "      <td>0.00</td>\n",
              "    </tr>\n",
              "    <tr>\n",
              "      <th>2</th>\n",
              "      <td>t5-esnli</td>\n",
              "      <td>33.48</td>\n",
              "      <td>8.27</td>\n",
              "      <td>1.14</td>\n",
              "      <td>0.00</td>\n",
              "    </tr>\n",
              "    <tr>\n",
              "      <th>3</th>\n",
              "      <td>t5-socnorm</td>\n",
              "      <td>54.52</td>\n",
              "      <td>51.68</td>\n",
              "      <td>43.07</td>\n",
              "      <td>27.45</td>\n",
              "    </tr>\n",
              "  </tbody>\n",
              "</table>\n",
              "</div>"
            ],
            "text/plain": [
              "        model   F1@0  F1@50  F1@60  F1@70\n",
              "0     t5-flan  25.85   8.92   7.11   0.76\n",
              "1       dream  17.68   4.31   0.00   0.00\n",
              "2    t5-esnli  33.48   8.27   1.14   0.00\n",
              "3  t5-socnorm  54.52  51.68  43.07  27.45"
            ]
          },
          "execution_count": 2,
          "metadata": {},
          "output_type": "execute_result"
        }
      ],
      "source": [
        "from sklearn.metrics import f1_score, accuracy_score, classification_report\n",
        "\n",
        "switch_label = {'Entailment': 'Contradiction',\n",
        "'No Relation': 'Entailment',\n",
        "'Contradiction': 'No Relation'}\n",
        "\n",
        "def adjust_label(y_true, y_pred):\n",
        "    if y_pred not in {'Entailment', 'Contradiction', 'No Relation'}:\n",
        "        return switch_label[y_true]\n",
        "    else:\n",
        "        return y_pred\n",
        "\n",
        "def change_label(row, thresh):\n",
        "    # swithc label to wrong if below thresh\n",
        "    if row['expl_score'] < thresh:\n",
        "        return switch_label[row['y_true']]\n",
        "    else:\n",
        "        return row['y_pred']\n",
        "\n",
        "eval_data = []\n",
        "byclass_data = dict()\n",
        "for model in ['t5-flan', 'dream', 't5-esnli', 't5-socnorm']:\n",
        "    data = [model]\n",
        "    byclass = [model]\n",
        "    res = pd.read_csv(f\"./data/bert_bleurt_scores/{model}_scored.csv\")\n",
        "    res['y_pred'] = res.apply(lambda row: adjust_label(row['y_true'], row['y_pred']), axis=1)\n",
        "    byclass_data[model] = classification_report(res['y_true'], res['y_pred'], \n",
        "                    labels=['Entailment', 'Contradiction', 'No Relation'], zero_division=0, digits=4, output_dict=True)\n",
        "    f1at0 = round(f1_score(res['y_true'], res['y_pred'], average='macro')*100,2)\n",
        "    data.append(f1at0)\n",
        "    for i in [0.5, 0.6, 0.7]:\n",
        "        res[f'labelAt{i*10}'] = res.apply(lambda row: change_label(row, i), axis=1)\n",
        "        f1 = round(f1_score(res['y_true'], res[f'labelAt{i*10}'], average='macro')*100,2)\n",
        "        data.append(f1)\n",
        "    eval_data.append(data)\n",
        "eval_df = pd.DataFrame(eval_data, columns=['model', 'F1@0', 'F1@50', 'F1@60', 'F1@70'])\n",
        "eval_df"
      ]
    },
    {
      "cell_type": "code",
      "execution_count": 3,
      "metadata": {},
      "outputs": [
        {
          "data": {
            "text/html": [
              "<div>\n",
              "<style scoped>\n",
              "    .dataframe tbody tr th:only-of-type {\n",
              "        vertical-align: middle;\n",
              "    }\n",
              "\n",
              "    .dataframe tbody tr th {\n",
              "        vertical-align: top;\n",
              "    }\n",
              "\n",
              "    .dataframe thead th {\n",
              "        text-align: right;\n",
              "    }\n",
              "</style>\n",
              "<table border=\"1\" class=\"dataframe\">\n",
              "  <thead>\n",
              "    <tr style=\"text-align: right;\">\n",
              "      <th></th>\n",
              "      <th>model</th>\n",
              "      <th>Entailment</th>\n",
              "      <th>Contradiction</th>\n",
              "      <th>NoRelaion</th>\n",
              "    </tr>\n",
              "  </thead>\n",
              "  <tbody>\n",
              "    <tr>\n",
              "      <th>0</th>\n",
              "      <td>t5-flan</td>\n",
              "      <td>1.36</td>\n",
              "      <td>13.56</td>\n",
              "      <td>62.62</td>\n",
              "    </tr>\n",
              "    <tr>\n",
              "      <th>1</th>\n",
              "      <td>dream</td>\n",
              "      <td>27.82</td>\n",
              "      <td>25.21</td>\n",
              "      <td>0.00</td>\n",
              "    </tr>\n",
              "    <tr>\n",
              "      <th>2</th>\n",
              "      <td>t5-esnli</td>\n",
              "      <td>21.28</td>\n",
              "      <td>35.63</td>\n",
              "      <td>43.54</td>\n",
              "    </tr>\n",
              "    <tr>\n",
              "      <th>3</th>\n",
              "      <td>t5-socnorm</td>\n",
              "      <td>56.60</td>\n",
              "      <td>47.00</td>\n",
              "      <td>59.97</td>\n",
              "    </tr>\n",
              "  </tbody>\n",
              "</table>\n",
              "</div>"
            ],
            "text/plain": [
              "        model  Entailment  Contradiction  NoRelaion\n",
              "0     t5-flan        1.36          13.56      62.62\n",
              "1       dream       27.82          25.21       0.00\n",
              "2    t5-esnli       21.28          35.63      43.54\n",
              "3  t5-socnorm       56.60          47.00      59.97"
            ]
          },
          "execution_count": 3,
          "metadata": {},
          "output_type": "execute_result"
        }
      ],
      "source": [
        "data = []\n",
        "for m in byclass_data:\n",
        "    \n",
        "    data.append([m,\n",
        "    round(byclass_data[m]['Entailment']['f1-score']*100,2),\n",
        "    round(byclass_data[m]['Contradiction']['f1-score']*100,2),\n",
        "    round(byclass_data[m]['No Relation']['f1-score']*100, 2)])\n",
        "byclass_df = pd.DataFrame(data, columns=['model', 'Entailment', \n",
        "                            'Contradiction', 'NoRelaion'])\n",
        "byclass_df.to_csv('./data/eval_byclass.csv', index=False)\n",
        "byclass_df"
      ]
    }
  ],
  "metadata": {
    "accelerator": "GPU",
    "colab": {
      "machine_shape": "hm",
      "provenance": []
    },
    "gpuClass": "standard",
    "kernelspec": {
      "display_name": "base",
      "language": "python",
      "name": "python3"
    },
    "language_info": {
      "codemirror_mode": {
        "name": "ipython",
        "version": 3
      },
      "file_extension": ".py",
      "mimetype": "text/x-python",
      "name": "python",
      "nbconvert_exporter": "python",
      "pygments_lexer": "ipython3",
      "version": "3.9.12"
    },
    "vscode": {
      "interpreter": {
        "hash": "364d9abb7aff696efb13be5ca97d520191fd5077dc6f659faeff954c3f4fe3ab"
      }
    }
  },
  "nbformat": 4,
  "nbformat_minor": 0
}
